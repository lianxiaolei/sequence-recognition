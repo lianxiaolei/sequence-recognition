{
 "cells": [
  {
   "cell_type": "code",
   "execution_count": 4,
   "metadata": {},
   "outputs": [],
   "source": [
    "import tensorflow as tf\n",
    "from tensorflow.examples.tutorials.mnist import input_data\n",
    "%matplotlib inline\n",
    "import matplotlib.pyplot as plt\n",
    "import numpy as np\n",
    "import cv2\n",
    "import tflearn\n",
    "from sklearn import svm"
   ]
  },
  {
   "cell_type": "markdown",
   "metadata": {},
   "source": [
    "## 读取数据集"
   ]
  },
  {
   "cell_type": "code",
   "execution_count": 2,
   "metadata": {},
   "outputs": [
    {
     "name": "stdout",
     "output_type": "stream",
     "text": [
      "Successfully downloaded train-images-idx3-ubyte.gz 9912422 bytes.\n",
      "Extracting /tmp/data/train-images-idx3-ubyte.gz\n",
      "Successfully downloaded train-labels-idx1-ubyte.gz 28881 bytes.\n",
      "Extracting /tmp/data/train-labels-idx1-ubyte.gz\n",
      "Successfully downloaded t10k-images-idx3-ubyte.gz 1648877 bytes.\n",
      "Extracting /tmp/data/t10k-images-idx3-ubyte.gz\n",
      "Successfully downloaded t10k-labels-idx1-ubyte.gz 4542 bytes.\n",
      "Extracting /tmp/data/t10k-labels-idx1-ubyte.gz\n"
     ]
    }
   ],
   "source": [
    "mnist = input_data.read_data_sets('/tmp/data', one_hot=True)"
   ]
  },
  {
   "cell_type": "code",
   "execution_count": 12,
   "metadata": {},
   "outputs": [],
   "source": [
    "x_train = mnist.train.images\n",
    "y_train = mnist.train.labels\n",
    "\n",
    "x_test = mnist.test.images\n",
    "y_test = mnist.test.labels"
   ]
  },
  {
   "cell_type": "code",
   "execution_count": 13,
   "metadata": {},
   "outputs": [
    {
     "name": "stdout",
     "output_type": "stream",
     "text": [
      "训练集信息：\n",
      "((55000, 784), (55000, 10))\n",
      "测试集信息：\n",
      "((10000, 784), (10000, 10))\n",
      "验证集信息：\n",
      "((5000, 784), (5000, 10))\n"
     ]
    }
   ],
   "source": [
    "print('训练集信息：')\n",
    "print(mnist.train.images.shape,mnist.train.labels.shape)\n",
    "print('测试集信息：')\n",
    "print(mnist.test.images.shape,mnist.test.labels.shape)\n",
    "print('验证集信息：')\n",
    "print(mnist.validation.images.shape,mnist.validation.labels.shape)"
   ]
  },
  {
   "cell_type": "markdown",
   "metadata": {},
   "source": [
    "### Softmax训练"
   ]
  },
  {
   "cell_type": "code",
   "execution_count": 17,
   "metadata": {},
   "outputs": [],
   "source": [
    "# 构建图\n",
    "# sess = tf.InteractiveSession()\n",
    "x = tf.placeholder(tf.float32, [None, 784])\n",
    "W = tf.Variable(tf.zeros([784,10]))\n",
    "b = tf.Variable(tf.zeros([10]))"
   ]
  },
  {
   "cell_type": "code",
   "execution_count": 18,
   "metadata": {},
   "outputs": [],
   "source": [
    "#softmax回归模型\n",
    "y = tf.nn.softmax(tf.matmul(x,W) + b)\n",
    "y_ = tf.placeholder(\"float\", [None,10])\n",
    "#计算交叉熵\n",
    "cross_entropy = -tf.reduce_sum(y_*tf.log(y))\n",
    "#设置TensorFlow用梯度下降算法以0.01的学习速率最小化交叉熵\n",
    "train_step = tf.train.GradientDescentOptimizer(0.01).minimize(cross_entropy)\n",
    "#初始化变量\n",
    "init = tf.initialize_all_variables()\n",
    "#评估模型\n",
    "correct_prediction = tf.equal(tf.argmax(y,1), tf.argmax(y_,1))\n",
    "accuracy = tf.reduce_mean(tf.cast(correct_prediction, \"float\"))\n",
    "\n",
    "saver = tf.train.Saver()  ##保存的API"
   ]
  },
  {
   "cell_type": "code",
   "execution_count": 19,
   "metadata": {},
   "outputs": [
    {
     "name": "stdout",
     "output_type": "stream",
     "text": [
      "softmax回归测试MNIST数据集正确率:\n",
      "0.098\n",
      "save model:./Test_MNIST_CROSS_ENTROPY.ckpt Finished\n"
     ]
    }
   ],
   "source": [
    "#循环训练模型\n",
    "with tf.Session() as sess:\n",
    "    sess.run(init)\n",
    "    for i in range(100):\n",
    "        batch = mnist.train.next_batch(200)\n",
    "        sess.run(train_step,feed_dict={x: batch[0], y_: batch[1]})\n",
    "        \n",
    "#         sess.run(train_step,feed_dict={x: x_train, y_: y_train})\n",
    "    #输出结果\n",
    "    print \"softmax回归测试MNIST数据集正确率:\"\n",
    "    print sess.run(accuracy, feed_dict={x: mnist.test.images, y_: mnist.test.labels})\n",
    "    \n",
    "    save_path = saver.save(sess,\"./Test_MNIST_CROSS_ENTROPY.ckpt\")  #保存模型\n",
    "    print(\"save model:{0} Finished\".format(save_path))"
   ]
  },
  {
   "cell_type": "markdown",
   "metadata": {},
   "source": [
    "### 加载模型进行预测"
   ]
  },
  {
   "cell_type": "code",
   "execution_count": null,
   "metadata": {},
   "outputs": [
    {
     "name": "stdout",
     "output_type": "stream",
     "text": [
      "INFO:tensorflow:Restoring parameters from ./Test_MNIST_CROSS_ENTROPY.ckpt\n",
      "('Testing Accuracy:', 0.07421875)\n"
     ]
    }
   ],
   "source": [
    "pred_class_index=tf.argmax(y, 1)\n",
    "with tf.Session() as sess:\n",
    "    #sess.run(init) #不使用训练好的参数\n",
    "    load_path = saver.restore(sess,\"./Test_MNIST_CROSS_ENTROPY.ckpt\")  #load上一步训练的参数\n",
    "    batch_x=mnist.test.images[:256]\n",
    "    batch_y=mnist.test.labels[:256]\n",
    "    \n",
    "    pred_value = sess.run([pred_class_index], feed_dict={x: batch_x})\n",
    "    # Calculate accuracy for 256 mnist test images\n",
    "    # mnist部分测试数据集，用刚刚训练好的模型来做预测。\n",
    "    print(\"Testing Accuracy:\", np.sum(pred_value ==  np.argmax(batch_y, 1)) / float(batch_y.shape[0]))"
   ]
  },
  {
   "cell_type": "markdown",
   "metadata": {},
   "source": [
    "### SVM训练"
   ]
  },
  {
   "cell_type": "code",
   "execution_count": null,
   "metadata": {},
   "outputs": [],
   "source": [
    "sc = svm.SVC(gamma=0.025)\n",
    "sc.fit(x_train, np.argmax(y_train, axis=1))"
   ]
  },
  {
   "cell_type": "code",
   "execution_count": null,
   "metadata": {},
   "outputs": [],
   "source": [
    "pred = sc.predict(batch_x)\n",
    "# print pred\n",
    "# print np.argmax(batch_y, axis=1)\n",
    "print np.sum(pred == np.argmax(batch_y, axis=1)) / float(batch_y.shape[0])"
   ]
  },
  {
   "cell_type": "markdown",
   "metadata": {},
   "source": [
    "### 读取图像预测"
   ]
  },
  {
   "cell_type": "code",
   "execution_count": 12,
   "metadata": {},
   "outputs": [],
   "source": [
    "img1 = cv2.imread('1.jpg', cv2.IMREAD_GRAYSCALE).reshape(1, -1) / 255.0\n",
    "img2 = cv2.imread('2.jpg', cv2.IMREAD_GRAYSCALE).reshape(1, -1) / 255.0\n",
    "img3 = cv2.imread('3.jpg', cv2.IMREAD_GRAYSCALE).reshape(1, -1) / 255.0\n",
    "img4 = cv2.imread('4.jpg', cv2.IMREAD_GRAYSCALE).reshape(1, -1) / 255.0\n",
    "img5 = cv2.imread('5.jpg', cv2.IMREAD_GRAYSCALE).reshape(1, -1) / 255.0\n",
    "img6 = cv2.imread('6.jpg', cv2.IMREAD_GRAYSCALE).reshape(1, -1) / 255.0\n",
    "img8 = cv2.imread('8.jpg', cv2.IMREAD_GRAYSCALE).reshape(1, -1) / 255.0\n",
    "img9 = cv2.imread('9.jpg', cv2.IMREAD_GRAYSCALE).reshape(1, -1) / 255.0\n",
    "img10 = cv2.imread('10.jpg', cv2.IMREAD_GRAYSCALE).reshape(1, -1) / 255.0\n",
    "img11 = cv2.imread('11.jpg', cv2.IMREAD_GRAYSCALE).reshape(1, -1) / 255.0\n",
    "img12 = cv2.imread('12.jpg', cv2.IMREAD_GRAYSCALE).reshape(1, -1) / 255.0\n",
    "img13 = cv2.imread('13.jpg', cv2.IMREAD_GRAYSCALE).reshape(1, -1) / 255.0\n",
    "img14 = cv2.imread('14.jpg', cv2.IMREAD_GRAYSCALE).reshape(1, -1) / 255.0"
   ]
  },
  {
   "cell_type": "code",
   "execution_count": 13,
   "metadata": {},
   "outputs": [
    {
     "name": "stderr",
     "output_type": "stream",
     "text": [
      "/home/lian19931201/anaconda2/lib/python2.7/site-packages/matplotlib/cbook/deprecation.py:107: MatplotlibDeprecationWarning: Adding an axes using the same arguments as a previous axes currently reuses the earlier instance.  In a future version, a new instance will always be created and returned.  Meanwhile, this warning can be suppressed, and the future behavior ensured, by passing a unique label to each axes instance.\n",
      "  warnings.warn(message, mplDeprecation, stacklevel=1)\n"
     ]
    },
    {
     "data": {
      "image/png": "[encoded data removed]",
      "text/plain": [
       "<Figure size 432x288 with 13 Axes>"
      ]
     },
     "metadata": {},
     "output_type": "display_data"
    }
   ],
   "source": [
    "plt.subplot(1,14,1).imshow(img1.reshape(28, 28))\n",
    "plt.subplot(1,14,2).imshow(img2.reshape(28, 28))\n",
    "plt.subplot(1,14,3).imshow(img3.reshape(28, 28))\n",
    "plt.subplot(1,14,4).imshow(img4.reshape(28, 28))\n",
    "plt.subplot(1,14,5).imshow(img5.reshape(28, 28))\n",
    "plt.subplot(1,14,6).imshow(img6.reshape(28, 28))\n",
    "plt.subplot(1,14,7).imshow(img8.reshape(28, 28))\n",
    "plt.subplot(1,14,8).imshow(img9.reshape(28, 28))\n",
    "plt.subplot(1,14,9).imshow(img10.reshape(28, 28))\n",
    "plt.subplot(1,14,10).imshow(img11.reshape(28, 28))\n",
    "plt.subplot(1,14,11).imshow(img12.reshape(28, 28))\n",
    "plt.subplot(1,14,12).imshow(img13.reshape(28, 28))\n",
    "plt.subplot(1,14,13).imshow(img14.reshape(28, 28))\n",
    "\n",
    "plt.subplot(1,14,1).axis('off')\n",
    "plt.subplot(1,14,2).axis('off')\n",
    "plt.subplot(1,14,3).axis('off')\n",
    "plt.subplot(1,14,4).axis('off')\n",
    "plt.subplot(1,14,5).axis('off')\n",
    "plt.subplot(1,14,6).axis('off')\n",
    "plt.subplot(1,14,7).axis('off')\n",
    "plt.subplot(1,14,8).axis('off')\n",
    "plt.subplot(1,14,9).axis('off')\n",
    "plt.subplot(1,14,10).axis('off')\n",
    "plt.subplot(1,14,11).axis('off')\n",
    "plt.subplot(1,14,12).axis('off')\n",
    "plt.subplot(1,14,13).axis('off')\n",
    "plt.show()"
   ]
  },
  {
   "cell_type": "code",
   "execution_count": 14,
   "metadata": {},
   "outputs": [
    {
     "name": "stdout",
     "output_type": "stream",
     "text": [
      "(13, 784)\n",
      "[3 2 3 2 5 5 5 2 2 2 6 0 3]\n",
      "INFO:tensorflow:Restoring parameters from ./Test_MNIST_model.ckpt\n",
      "[0 0 0 0 0 0 0 0 0 0 0 0 0]\n"
     ]
    }
   ],
   "source": [
    "# 使用mnist train，预测图像结果\n",
    "imgs = np.vstack(\n",
    "    [img1, img2, img3, img4, img5, img6, img8, img9, img10, img11, img12, img13, img14])\n",
    "print imgs.shape\n",
    "print sc.predict(imgs)\n",
    "\n",
    "with tf.Session() as sess:\n",
    "    #sess.run(init) #不使用训练好的参数\n",
    "    load_path = saver.restore(sess,\"./Test_MNIST_model.ckpt\")  #load上一步训练的参数\n",
    "    batch_x=mnist.test.images[:256]\n",
    "    batch_y=mnist.test.labels[:256]\n",
    "    \n",
    "    pred_value = sess.run(pred_class_index, feed_dict={x: imgs})\n",
    "    print pred_value"
   ]
  },
  {
   "cell_type": "code",
   "execution_count": 16,
   "metadata": {},
   "outputs": [
    {
     "data": {
      "text/plain": [
       "SVC(C=1.0, cache_size=200, class_weight=None, coef0=0.0,\n",
       "  decision_function_shape='ovr', degree=3, gamma=0.025, kernel='rbf',\n",
       "  max_iter=-1, probability=False, random_state=None, shrinking=True,\n",
       "  tol=0.001, verbose=False)"
      ]
     },
     "execution_count": 16,
     "metadata": {},
     "output_type": "execute_result"
    }
   ],
   "source": [
    "# 使用传入图像train\n",
    "imgs_y = np.array([1,2,3,4,5,6,8,9,10,11,12,13,14])\n",
    "sc = svm.SVC(gamma=0.025)\n",
    "sc.fit(imgs, imgs_y)"
   ]
  },
  {
   "cell_type": "code",
   "execution_count": 17,
   "metadata": {},
   "outputs": [
    {
     "data": {
      "text/plain": [
       "array([ 1,  2,  3,  4,  5,  6,  8,  9, 10, 11, 12, 13, 14])"
      ]
     },
     "execution_count": 17,
     "metadata": {},
     "output_type": "execute_result"
    }
   ],
   "source": [
    "sc.predict(imgs)"
   ]
  },
  {
   "cell_type": "code",
   "execution_count": 18,
   "metadata": {},
   "outputs": [
    {
     "data": {
      "text/plain": [
       "SVC(C=1.0, cache_size=200, class_weight=None, coef0=0.0,\n",
       "  decision_function_shape='ovr', degree=3, gamma=0.025, kernel='rbf',\n",
       "  max_iter=-1, probability=False, random_state=None, shrinking=True,\n",
       "  tol=0.001, verbose=False)"
      ]
     },
     "execution_count": 18,
     "metadata": {},
     "output_type": "execute_result"
    }
   ],
   "source": [
    "sc = svm.SVC(gamma=0.025)\n",
    "sc.fit(np.vstack([x_train, imgs]), np.hstack([np.argmax(y_train, axis=1), imgs_y]))"
   ]
  },
  {
   "cell_type": "code",
   "execution_count": 19,
   "metadata": {},
   "outputs": [
    {
     "name": "stdout",
     "output_type": "stream",
     "text": [
      "[7]\n",
      "[2]\n",
      "[1]\n",
      "[0]\n",
      "[3 2 3 4 5 6 8 9 2 2 6 0 3]\n"
     ]
    }
   ],
   "source": [
    "print sc.predict(batch_x[0].reshape(1, -1))\n",
    "print sc.predict(batch_x[1].reshape(1, -1))\n",
    "print sc.predict(batch_x[2].reshape(1, -1))\n",
    "print sc.predict(batch_x[3].reshape(1, -1))\n",
    "\n",
    "print sc.predict(imgs)"
   ]
  },
  {
   "cell_type": "markdown",
   "metadata": {},
   "source": [
    "## 加载手写数字"
   ]
  },
  {
   "cell_type": "code",
   "execution_count": 20,
   "metadata": {},
   "outputs": [],
   "source": [
    "img1 = cv2.imread('1.jpg', cv2.IMREAD_GRAYSCALE).reshape(1, -1) / 255.0\n",
    "img2 = cv2.imread('2.jpg', cv2.IMREAD_GRAYSCALE).reshape(1, -1) / 255.0\n",
    "img3 = cv2.imread('3.jpg', cv2.IMREAD_GRAYSCALE).reshape(1, -1) / 255.0\n",
    "img4 = cv2.imread('4.jpg', cv2.IMREAD_GRAYSCALE).reshape(1, -1) / 255.0\n",
    "img5 = cv2.imread('5.jpg', cv2.IMREAD_GRAYSCALE).reshape(1, -1) / 255.0\n",
    "img9 = cv2.imread('9.jpg', cv2.IMREAD_GRAYSCALE).reshape(1, -1) / 255.0\n",
    "img22 = cv2.imread('22.jpg', cv2.IMREAD_GRAYSCALE).reshape(1, -1) / 255.0\n",
    "img222 = cv2.imread('222.jpg', cv2.IMREAD_GRAYSCALE).reshape(1, -1) / 255.0\n",
    "img2222 = cv2.imread('2222.jpg', cv2.IMREAD_GRAYSCALE).reshape(1, -1) / 255.0\n",
    "img33 = cv2.imread('33.jpg', cv2.IMREAD_GRAYSCALE).reshape(1, -1) / 255.0"
   ]
  },
  {
   "cell_type": "code",
   "execution_count": 21,
   "metadata": {},
   "outputs": [
    {
     "data": {
      "image/png": "[encoded data removed]",
      "text/plain": [
       "<Figure size 432x288 with 10 Axes>"
      ]
     },
     "metadata": {},
     "output_type": "display_data"
    }
   ],
   "source": [
    "plt.subplot(1,10,1).imshow(img1.reshape(28, 28))\n",
    "plt.subplot(1,10,2).imshow(img2.reshape(28, 28))\n",
    "plt.subplot(1,10,3).imshow(img3.reshape(28, 28))\n",
    "plt.subplot(1,10,4).imshow(img4.reshape(28, 28))\n",
    "plt.subplot(1,10,5).imshow(img5.reshape(28, 28))\n",
    "plt.subplot(1,10,6).imshow(img9.reshape(28, 28))\n",
    "plt.subplot(1,10,7).imshow(img22.reshape(28, 28))\n",
    "plt.subplot(1,10,8).imshow(img222.reshape(28, 28))\n",
    "plt.subplot(1,10,9).imshow(img2222.reshape(28, 28))\n",
    "plt.subplot(1,10,10).imshow(img33.reshape(28, 28))\n",
    "\n",
    "plt.show()"
   ]
  },
  {
   "cell_type": "code",
   "execution_count": 29,
   "metadata": {},
   "outputs": [
    {
     "name": "stdout",
     "output_type": "stream",
     "text": [
      "SVM predict result: [1 2 3 8 7 5 2 2 6 3]\n",
      "INFO:tensorflow:Restoring parameters from ./Test_MNIST_model.ckpt\n",
      "Softmax predict result: [array([5, 6, 3, 8, 7, 5, 2, 2, 5, 3])]\n"
     ]
    }
   ],
   "source": [
    "imgs = np.vstack(\n",
    "    [img1, img2, img3, img4, img5, img9, img22, img222, img2222, img33])\n",
    "print 'SVM predict result:', sc.predict(imgs)\n",
    "\n",
    "with tf.Session() as sess:\n",
    "    #sess.run(init) #不使用训练好的参数\n",
    "    load_path = saver.restore(sess,\"./Test_MNIST_model.ckpt\")  #load上一步训练的参数\n",
    "    \n",
    "    pred_value = sess.run([pred_class_index], feed_dict={x: imgs})\n",
    "    print 'Softmax predict result:', pred_value\n",
    "    # Calculate accuracy for 256 mnist test images\n",
    "    # mnist部分测试数据集，用刚刚训练好的模型来做预测。\n",
    "#     print(\"Testing Accuracy:\", np.sum(pred_value ==  np.argmax(batch_y, 1)) / float(batch_y.shape[0]))"
   ]
  },
  {
   "cell_type": "markdown",
   "metadata": {},
   "source": [
    "## CNN"
   ]
  },
  {
   "cell_type": "code",
   "execution_count": 30,
   "metadata": {},
   "outputs": [],
   "source": [
    "def conv_net(X, w, w2, w3, w4, w_o, p_keep_conv, p_keep_hidden):\n",
    "    #第一个卷积层:padding=SAME,保证输出的feature map与输入矩阵的大小相同\n",
    "    l1a = tf.nn.relu(tf.nn.conv2d(X, w,                       # l1a shape=(?, 28, 28, 32)\n",
    "                        strides=[1, 1, 1, 1], padding='SAME'))\n",
    "    #max_pooling,窗口大小为2x2\n",
    "    l1 = tf.nn.max_pool(l1a, ksize=[1, 2, 2, 1],              # l1 shape=(?, 14, 14, 32)\n",
    "                        strides=[1, 2, 2, 1], padding='SAME')\n",
    "    #dropout:每个神经元有p_keep_conv的概率以1/p_keep_conv的比例进行归一化,有(1-p_keep_conv)的概率置为0\n",
    "    l1 = tf.nn.dropout(l1, p_keep_conv)\n",
    "\n",
    "    #第二个卷积层\n",
    "    l2a = tf.nn.relu(tf.nn.conv2d(l1, w2,                     # l2a shape=(?, 14, 14, 64)\n",
    "                        strides=[1, 1, 1, 1], padding='SAME'))\n",
    "    l2 = tf.nn.max_pool(l2a, ksize=[1, 2, 2, 1],              # l2 shape=(?, 7, 7, 64)\n",
    "                        strides=[1, 2, 2, 1], padding='SAME')\n",
    "    l2 = tf.nn.dropout(l2, p_keep_conv)\n",
    "\n",
    "    #第三个卷积层\n",
    "    l3a = tf.nn.relu(tf.nn.conv2d(l2, w3,                     # l3a shape=(?, 7, 7, 128)\n",
    "                        strides=[1, 1, 1, 1], padding='SAME'))\n",
    "    l3 = tf.nn.max_pool(l3a, ksize=[1, 2, 2, 1],              # l3 shape=(?, 4, 4, 128)\n",
    "                        strides=[1, 2, 2, 1], padding='SAME')\n",
    "    #将所有的feature map合并成一个2048维向量\n",
    "    l3 = tf.reshape(l3, [-1, w4.get_shape().as_list()[0]])    # reshape to (?, 2048)\n",
    "    l3 = tf.nn.dropout(l3, p_keep_conv)\n",
    "    #后面两层为全连接层\n",
    "    l4 = tf.nn.relu(tf.matmul(l3, w4))\n",
    "    l4 = tf.nn.dropout(l4, p_keep_hidden)\n",
    "    pyx = tf.matmul(l4, w_o)\n",
    "    \n",
    "    return pyx"
   ]
  },
  {
   "cell_type": "code",
   "execution_count": 31,
   "metadata": {},
   "outputs": [],
   "source": [
    "#初始化参数\n",
    "def init_weights(shape):\n",
    "    return tf.Variable(tf.random_normal(shape, stddev=0.01))"
   ]
  },
  {
   "cell_type": "code",
   "execution_count": 32,
   "metadata": {},
   "outputs": [],
   "source": [
    "batch_size = 128\n",
    "test_size = 256"
   ]
  },
  {
   "cell_type": "code",
   "execution_count": 33,
   "metadata": {},
   "outputs": [],
   "source": [
    "trX, trY, teX, teY = mnist.train.images, mnist.train.labels, mnist.test.images, mnist.test.labels\n",
    "trX = trX.reshape(-1, 28, 28, 1)  # 将每张图片用一个28x28的矩阵表示,(55000,28,28,1)\n",
    "teX = teX.reshape(-1, 28, 28, 1)  # 将每张图片用一个28x28的矩阵表示,(1000,28,28,1)"
   ]
  },
  {
   "cell_type": "code",
   "execution_count": 34,
   "metadata": {},
   "outputs": [],
   "source": [
    "X = tf.placeholder(\"float\", [None, 28, 28, 1])\n",
    "Y = tf.placeholder(\"float\", [None, 10])"
   ]
  },
  {
   "cell_type": "code",
   "execution_count": 35,
   "metadata": {},
   "outputs": [],
   "source": [
    "w = init_weights([3, 3, 1, 32])       # 第一层卷积核大小为3x3,输入一张图,输出32个feature map\n",
    "w2 = init_weights([3, 3, 32, 64])     # 第二层卷积核大小为3x3,输入32个feature map,输出64个feature map\n",
    "w3 = init_weights([3, 3, 64, 128])    # 第三层卷积核大小为3x3,输入64个feature map,输出128个feature map\n",
    "w4 = init_weights([128 * 4 * 4, 625]) # FC 128 * 4 * 4 inputs, 625 outputs\n",
    "w_o = init_weights([625, 10])         # FC 625 inputs, 10 outputs (labels)"
   ]
  },
  {
   "cell_type": "code",
   "execution_count": 36,
   "metadata": {},
   "outputs": [],
   "source": [
    "p_keep_conv = tf.placeholder(\"float\") # 卷积层的dropout概率\n",
    "p_keep_hidden = tf.placeholder(\"float\")# 全连接层的dropout概率\n",
    "py_x = conv_net(X, w, w2, w3, w4, w_o, p_keep_conv, p_keep_hidden)"
   ]
  },
  {
   "cell_type": "code",
   "execution_count": 37,
   "metadata": {},
   "outputs": [],
   "source": [
    "#初始化变量\n",
    "init = tf.initialize_all_variables()\n",
    "cost = tf.reduce_mean(tf.nn.softmax_cross_entropy_with_logits(logits=py_x, labels=Y))# 交叉熵目标函数\n",
    "train_op = tf.train.RMSPropOptimizer(0.001, 0.9).minimize(cost)#RMSPro算法最小化目标函数\n",
    "\n",
    "#评估模型\n",
    "predict_op = tf.argmax(py_x, 1)#返回每个样本的预测结果\n",
    "saver = tf.train.Saver()  ##保存的API"
   ]
  },
  {
   "cell_type": "code",
   "execution_count": 38,
   "metadata": {},
   "outputs": [
    {
     "name": "stdout",
     "output_type": "stream",
     "text": [
      "GPU USING: \n",
      "(0, 0.953125)\n",
      "(1, 0.9765625)\n",
      "(2, 0.99609375)\n",
      "save model:./Test_MNIST_CNN.ckpt Finished\n",
      "time cost: 425.772927999\n"
     ]
    }
   ],
   "source": [
    "# Launch the graph in a session\n",
    "print 'GPU USING:', tf.test.gpu_device_name()\n",
    "import time\n",
    "tmp_time = time.time()\n",
    "with tf.Session() as sess:\n",
    "    # you need to initialize all variables\n",
    "    tf.initialize_all_variables().run()\n",
    "\n",
    "    for i in range(3):\n",
    "        training_batch = zip(range(0, len(trX), batch_size),\n",
    "                             range(batch_size, len(trX)+1, batch_size))\n",
    "        for start, end in training_batch:\n",
    "            sess.run(train_op, feed_dict={X: trX[start:end], Y: trY[start:end],\n",
    "                                          p_keep_conv: 0.8, p_keep_hidden: 0.5})\n",
    "        #test\n",
    "        test_indices = np.arange(len(teX)) \n",
    "        np.random.shuffle(test_indices)\n",
    "        test_indices = test_indices[0:test_size]\n",
    "\n",
    "        print(i, np.mean(np.argmax(teY[test_indices], axis=1) ==\n",
    "                         sess.run(predict_op, feed_dict={X: teX[test_indices],\n",
    "                                                         p_keep_conv: 1.0,\n",
    "                                                         p_keep_hidden: 1.0})))\n",
    "        \n",
    "    save_path = saver.save(sess,\"./Test_MNIST_CNN.ckpt\")\n",
    "    print(\"save model:{0} Finished\".format(save_path))\n",
    "print 'time cost:', time.time() - tmp_time"
   ]
  },
  {
   "cell_type": "code",
   "execution_count": 39,
   "metadata": {},
   "outputs": [],
   "source": [
    "img1 = cv2.imread('1_0.jpg', cv2.IMREAD_GRAYSCALE).reshape(1, -1) / 255.0\n",
    "img2 = cv2.imread('2_0.jpg', cv2.IMREAD_GRAYSCALE).reshape(1, -1) / 255.0\n",
    "img3 = cv2.imread('3_0.jpg', cv2.IMREAD_GRAYSCALE).reshape(1, -1) / 255.0\n",
    "img4 = cv2.imread('4_0.jpg', cv2.IMREAD_GRAYSCALE).reshape(1, -1) / 255.0\n",
    "img5 = cv2.imread('5_0.jpg', cv2.IMREAD_GRAYSCALE).reshape(1, -1) / 255.0\n",
    "img6 = cv2.imread('6_0.jpg', cv2.IMREAD_GRAYSCALE).reshape(1, -1) / 255.0\n",
    "img7 = cv2.imread('7_0.jpg', cv2.IMREAD_GRAYSCALE).reshape(1, -1) / 255.0\n",
    "img8 = cv2.imread('8_0.jpg', cv2.IMREAD_GRAYSCALE).reshape(1, -1) / 255.0\n",
    "img9 = cv2.imread('9_0.jpg', cv2.IMREAD_GRAYSCALE).reshape(1, -1) / 255.0\n",
    "img0 = cv2.imread('0_0.jpg', cv2.IMREAD_GRAYSCALE).reshape(1, -1) / 255.0"
   ]
  },
  {
   "cell_type": "code",
   "execution_count": 40,
   "metadata": {},
   "outputs": [
    {
     "data": {
      "image/png": "[encoded data removed]",
      "text/plain": [
       "<Figure size 432x288 with 10 Axes>"
      ]
     },
     "metadata": {},
     "output_type": "display_data"
    }
   ],
   "source": [
    "plt.subplot(1,10,1).imshow(img1.reshape(28, 28))\n",
    "plt.subplot(1,10,2).imshow(img2.reshape(28, 28))\n",
    "plt.subplot(1,10,3).imshow(img3.reshape(28, 28))\n",
    "plt.subplot(1,10,4).imshow(img4.reshape(28, 28))\n",
    "plt.subplot(1,10,5).imshow(img5.reshape(28, 28))\n",
    "plt.subplot(1,10,6).imshow(img6.reshape(28, 28))\n",
    "plt.subplot(1,10,7).imshow(img7.reshape(28, 28))\n",
    "plt.subplot(1,10,8).imshow(img8.reshape(28, 28))\n",
    "plt.subplot(1,10,9).imshow(img9.reshape(28, 28))\n",
    "plt.subplot(1,10,10).imshow(img0.reshape(28, 28))\n",
    "\n",
    "plt.show()"
   ]
  },
  {
   "cell_type": "code",
   "execution_count": 42,
   "metadata": {},
   "outputs": [
    {
     "name": "stdout",
     "output_type": "stream",
     "text": [
      "INFO:tensorflow:Restoring parameters from ./Test_MNIST_CNN.ckpt\n",
      "('Testing Result:', array([1, 2, 3, 4, 5, 6, 7, 8, 8, 0]))\n"
     ]
    }
   ],
   "source": [
    "imgs = np.vstack(\n",
    "    [img1, img2, img3, img4, img5, img6, img7, img8, img9, img0]).reshape(-1, 28, 28, 1)\n",
    "imgs[imgs < 0.015] = 0\n",
    "with tf.Session() as sess:\n",
    "    #sess.run(init) #不使用训练好的参数\n",
    "    load_path = saver.restore(sess,\"./Test_MNIST_CNN.ckpt\")  #load上一步训练的参数\n",
    "    \n",
    "    pred = sess.run(predict_op, feed_dict={X: imgs, p_keep_conv: 1.0, p_keep_hidden: 1.0})\n",
    "    print(\"Testing Result:\", pred)"
   ]
  },
  {
   "cell_type": "markdown",
   "metadata": {},
   "source": [
    "## AlexNet"
   ]
  },
  {
   "cell_type": "code",
   "execution_count": 17,
   "metadata": {},
   "outputs": [],
   "source": [
    "# 定义网络超参数\n",
    "learning_rate = 0.001\n",
    "training_iters = 20000\n",
    "batch_size = 64\n",
    "display_step = 20"
   ]
  },
  {
   "cell_type": "code",
   "execution_count": 18,
   "metadata": {},
   "outputs": [],
   "source": [
    "# 定义网络参数\n",
    "n_input = 784 # 输入的维度\n",
    "n_classes = 10 # 标签的维度\n",
    "dropout = 0.8 # Dropout 的概率"
   ]
  },
  {
   "cell_type": "code",
   "execution_count": 19,
   "metadata": {},
   "outputs": [],
   "source": [
    "# 占位符输入\n",
    "x = tf.placeholder(tf.float32, [None, n_input])\n",
    "y = tf.placeholder(tf.float32, [None, n_classes])\n",
    "keep_prob = tf.placeholder(tf.float32)"
   ]
  },
  {
   "cell_type": "code",
   "execution_count": 31,
   "metadata": {},
   "outputs": [],
   "source": [
    "def conv2d(name, l_input, w, b):\n",
    "    conv = tf.nn.conv2d(l_input, w, strides=[1, 1, 1, 1], padding='SAME')\n",
    "    bias = tf.nn.bias_add(conv, b)\n",
    "    relu = tf.nn.relu(bias, name=name)\n",
    "    return relu"
   ]
  },
  {
   "cell_type": "code",
   "execution_count": 32,
   "metadata": {},
   "outputs": [],
   "source": [
    "def max_pool(name, l_input, k):\n",
    "    pool = tf.nn.max_pool(l_input, ksize=[1, k, k, 1], strides=[1, k, k, 1], padding='SAME', name=name)\n",
    "    return pool"
   ]
  },
  {
   "cell_type": "code",
   "execution_count": 37,
   "metadata": {},
   "outputs": [],
   "source": [
    "def norm(name, l_input, lsize=4):\n",
    "    lrn = tf.nn.lrn(l_input, lsize, bias=1.0, alpha=0.001 / 9.0, beta=0.75, name=name)\n",
    "    return lrn"
   ]
  },
  {
   "cell_type": "code",
   "execution_count": 38,
   "metadata": {},
   "outputs": [],
   "source": [
    "def alex_net(_X, _weights, _biases, _dropout):\n",
    "    # 向量转为矩阵\n",
    "    _X = tf.reshape(_X, shape=[-1, 28, 28, 1])\n",
    "\n",
    "    # 卷积层\n",
    "    conv1 = conv2d('conv1', _X, _weights['wc1'], _biases['bc1'])\n",
    "    # 下采样层\n",
    "    pool1 = max_pool('pool1', conv1, k=2)\n",
    "    # 归一化层\n",
    "    norm1 = norm('norm1', pool1, lsize=4)\n",
    "    # Dropout\n",
    "    norm1 = tf.nn.dropout(norm1, _dropout)\n",
    "\n",
    "    # 卷积\n",
    "    conv2 = conv2d('conv2', norm1, _weights['wc2'], _biases['bc2'])\n",
    "    # 下采样\n",
    "    pool2 = max_pool('pool2', conv2, k=2)\n",
    "    # 归一化\n",
    "    norm2 = norm('norm2', pool2, lsize=4)\n",
    "    # Dropout\n",
    "    norm2 = tf.nn.dropout(norm2, _dropout)\n",
    "\n",
    "    # 卷积\n",
    "    conv3 = conv2d('conv3', norm2, _weights['wc3'], _biases['bc3'])\n",
    "    # 下采样\n",
    "    pool3 = max_pool('pool3', conv3, k=2)\n",
    "    # 归一化\n",
    "    norm3 = norm('norm3', pool3, lsize=4)\n",
    "    # Dropout\n",
    "    norm3 = tf.nn.dropout(norm3, _dropout)\n",
    "    \n",
    "    # 全连接层，先把特征图转为向量\n",
    "    dense1 = tf.reshape(norm3, [-1, _weights['wd1'].get_shape().as_list()[0]]) \n",
    "    dense1 = tf.nn.relu(tf.matmul(dense1, _weights['wd1']) + _biases['bd1'], name='fc1') \n",
    "    # 全连接层\n",
    "    dense2 = tf.nn.relu(tf.matmul(dense1, _weights['wd2']) + _biases['bd2'], name='fc2') # Relu activation\n",
    "\n",
    "    # 网络输出层\n",
    "    out = tf.matmul(dense2, _weights['out']) + _biases['out']\n",
    "    return out"
   ]
  },
  {
   "cell_type": "code",
   "execution_count": 39,
   "metadata": {},
   "outputs": [],
   "source": [
    "# 存储所有的网络参数\n",
    "weights = {\n",
    "    'wc1': tf.Variable(tf.random_normal([3, 3, 1, 64])),\n",
    "    'wc2': tf.Variable(tf.random_normal([3, 3, 64, 128])),\n",
    "    'wc3': tf.Variable(tf.random_normal([3, 3, 128, 256])),\n",
    "    'wd1': tf.Variable(tf.random_normal([4*4*256, 1024])),\n",
    "    'wd2': tf.Variable(tf.random_normal([1024, 1024])),\n",
    "    'out': tf.Variable(tf.random_normal([1024, 10]))\n",
    "}\n",
    "biases = {\n",
    "    'bc1': tf.Variable(tf.random_normal([64])),\n",
    "    'bc2': tf.Variable(tf.random_normal([128])),\n",
    "    'bc3': tf.Variable(tf.random_normal([256])),\n",
    "    'bd1': tf.Variable(tf.random_normal([1024])),\n",
    "    'bd2': tf.Variable(tf.random_normal([1024])),\n",
    "    'out': tf.Variable(tf.random_normal([n_classes]))\n",
    "}"
   ]
  },
  {
   "cell_type": "code",
   "execution_count": 40,
   "metadata": {},
   "outputs": [
    {
     "name": "stdout",
     "output_type": "stream",
     "text": [
      "WARNING:tensorflow:From <ipython-input-40-e7e485f76255>:5: softmax_cross_entropy_with_logits (from tensorflow.python.ops.nn_ops) is deprecated and will be removed in a future version.\n",
      "Instructions for updating:\n",
      "\n",
      "Future major versions of TensorFlow will allow gradients to flow\n",
      "into the labels input on backprop by default.\n",
      "\n",
      "See tf.nn.softmax_cross_entropy_with_logits_v2.\n",
      "\n"
     ]
    }
   ],
   "source": [
    "# 构建模型\n",
    "pred = alex_net(x, weights, biases, keep_prob)\n",
    "\n",
    "# 定义损失函数和学习步骤\n",
    "cost = tf.reduce_mean(tf.nn.softmax_cross_entropy_with_logits(logits = pred, labels = y))\n",
    "optimizer = tf.train.AdamOptimizer(learning_rate=learning_rate).minimize(cost)"
   ]
  },
  {
   "cell_type": "code",
   "execution_count": 41,
   "metadata": {},
   "outputs": [],
   "source": [
    "correct_pred = tf.equal(tf.argmax(pred,1), tf.argmax(y,1))\n",
    "accuracy = tf.reduce_mean(tf.cast(correct_pred, tf.float32))"
   ]
  },
  {
   "cell_type": "code",
   "execution_count": 42,
   "metadata": {},
   "outputs": [
    {
     "name": "stdout",
     "output_type": "stream",
     "text": [
      "WARNING:tensorflow:From /home/lian19931201/anaconda2/lib/python2.7/site-packages/tensorflow/python/util/tf_should_use.py:118: initialize_all_variables (from tensorflow.python.ops.variables) is deprecated and will be removed after 2017-03-02.\n",
      "Instructions for updating:\n",
      "Use `tf.global_variables_initializer` instead.\n"
     ]
    }
   ],
   "source": [
    "init = tf.initialize_all_variables()"
   ]
  },
  {
   "cell_type": "code",
   "execution_count": 43,
   "metadata": {},
   "outputs": [
    {
     "name": "stdout",
     "output_type": "stream",
     "text": [
      "Iter 1280, Minibatch Loss= 61499.437500, Training Accuracy = 0.35938\n",
      "Iter 2560, Minibatch Loss= 77636.718750, Training Accuracy = 0.34375\n",
      "Iter 3840, Minibatch Loss= 50323.816406, Training Accuracy = 0.50000\n",
      "Iter 5120, Minibatch Loss= 49196.378906, Training Accuracy = 0.57812\n",
      "Iter 6400, Minibatch Loss= 37686.167969, Training Accuracy = 0.62500\n",
      "Iter 7680, Minibatch Loss= 33871.710938, Training Accuracy = 0.57812\n",
      "Iter 8960, Minibatch Loss= 33872.945312, Training Accuracy = 0.53125\n",
      "Iter 10240, Minibatch Loss= 15196.377930, Training Accuracy = 0.68750\n",
      "Iter 11520, Minibatch Loss= 32896.296875, Training Accuracy = 0.54688\n",
      "Iter 12800, Minibatch Loss= 21602.078125, Training Accuracy = 0.67188\n",
      "Iter 14080, Minibatch Loss= 17630.849609, Training Accuracy = 0.67188\n",
      "Iter 15360, Minibatch Loss= 21777.343750, Training Accuracy = 0.64062\n",
      "Iter 16640, Minibatch Loss= 26658.734375, Training Accuracy = 0.71875\n",
      "Iter 17920, Minibatch Loss= 20217.103516, Training Accuracy = 0.70312\n",
      "Iter 19200, Minibatch Loss= 20995.380859, Training Accuracy = 0.71875\n",
      "Iter 20480, Minibatch Loss= 14286.785156, Training Accuracy = 0.75000\n",
      "Iter 21760, Minibatch Loss= 11497.930664, Training Accuracy = 0.73438\n",
      "Iter 23040, Minibatch Loss= 12353.744141, Training Accuracy = 0.76562\n",
      "Iter 24320, Minibatch Loss= 9968.146484, Training Accuracy = 0.76562\n",
      "Iter 25600, Minibatch Loss= 11766.713867, Training Accuracy = 0.75000\n",
      "Iter 26880, Minibatch Loss= 9570.300781, Training Accuracy = 0.82812\n",
      "Iter 28160, Minibatch Loss= 10549.623047, Training Accuracy = 0.79688\n",
      "Iter 29440, Minibatch Loss= 6379.068848, Training Accuracy = 0.84375\n",
      "Iter 30720, Minibatch Loss= 8331.496094, Training Accuracy = 0.76562\n",
      "Iter 32000, Minibatch Loss= 12148.875000, Training Accuracy = 0.71875\n",
      "Iter 33280, Minibatch Loss= 5549.495117, Training Accuracy = 0.89062\n",
      "Iter 34560, Minibatch Loss= 9798.000977, Training Accuracy = 0.76562\n",
      "Iter 35840, Minibatch Loss= 7600.469727, Training Accuracy = 0.81250\n",
      "Iter 37120, Minibatch Loss= 16677.089844, Training Accuracy = 0.75000\n",
      "Iter 38400, Minibatch Loss= 6503.764648, Training Accuracy = 0.87500\n",
      "Iter 39680, Minibatch Loss= 14337.927734, Training Accuracy = 0.70312\n",
      "Iter 40960, Minibatch Loss= 15878.570312, Training Accuracy = 0.67188\n",
      "Iter 42240, Minibatch Loss= 10103.932617, Training Accuracy = 0.81250\n",
      "Iter 43520, Minibatch Loss= 10241.058594, Training Accuracy = 0.70312\n",
      "Iter 44800, Minibatch Loss= 4705.225586, Training Accuracy = 0.82812\n",
      "Iter 46080, Minibatch Loss= 12230.464844, Training Accuracy = 0.79688\n",
      "Iter 47360, Minibatch Loss= 5408.240234, Training Accuracy = 0.84375\n",
      "Iter 48640, Minibatch Loss= 7233.631348, Training Accuracy = 0.76562\n",
      "Iter 49920, Minibatch Loss= 13109.380859, Training Accuracy = 0.76562\n",
      "Iter 51200, Minibatch Loss= 6365.457031, Training Accuracy = 0.78125\n",
      "Iter 52480, Minibatch Loss= 7146.999023, Training Accuracy = 0.81250\n",
      "Iter 53760, Minibatch Loss= 10652.509766, Training Accuracy = 0.71875\n",
      "Iter 55040, Minibatch Loss= 5311.754395, Training Accuracy = 0.82812\n",
      "Iter 56320, Minibatch Loss= 8467.684570, Training Accuracy = 0.71875\n",
      "Iter 57600, Minibatch Loss= 2951.718750, Training Accuracy = 0.87500\n",
      "Iter 58880, Minibatch Loss= 7414.106934, Training Accuracy = 0.82812\n",
      "Iter 60160, Minibatch Loss= 7719.353516, Training Accuracy = 0.81250\n",
      "Iter 61440, Minibatch Loss= 3293.387939, Training Accuracy = 0.89062\n",
      "Iter 62720, Minibatch Loss= 5657.916992, Training Accuracy = 0.85938\n",
      "Iter 64000, Minibatch Loss= 4190.297363, Training Accuracy = 0.85938\n",
      "Iter 65280, Minibatch Loss= 5221.173828, Training Accuracy = 0.87500\n",
      "Iter 66560, Minibatch Loss= 4194.080078, Training Accuracy = 0.87500\n",
      "Iter 67840, Minibatch Loss= 2811.959717, Training Accuracy = 0.89062\n",
      "Iter 69120, Minibatch Loss= 6501.642578, Training Accuracy = 0.81250\n",
      "Iter 70400, Minibatch Loss= 6756.470703, Training Accuracy = 0.76562\n",
      "Iter 71680, Minibatch Loss= 10665.375000, Training Accuracy = 0.75000\n",
      "Iter 72960, Minibatch Loss= 6150.450684, Training Accuracy = 0.84375\n",
      "Iter 74240, Minibatch Loss= 2919.257324, Training Accuracy = 0.85938\n",
      "Iter 75520, Minibatch Loss= 7856.343262, Training Accuracy = 0.79688\n",
      "Iter 76800, Minibatch Loss= 3528.244873, Training Accuracy = 0.82812\n",
      "Iter 78080, Minibatch Loss= 4216.830078, Training Accuracy = 0.90625\n",
      "Iter 79360, Minibatch Loss= 8292.956055, Training Accuracy = 0.85938\n",
      "Iter 80640, Minibatch Loss= 2783.416260, Training Accuracy = 0.85938\n",
      "Iter 81920, Minibatch Loss= 2605.031006, Training Accuracy = 0.82812\n",
      "Iter 83200, Minibatch Loss= 4842.594727, Training Accuracy = 0.85938\n",
      "Iter 84480, Minibatch Loss= 6409.774414, Training Accuracy = 0.85938\n",
      "Iter 85760, Minibatch Loss= 7225.779297, Training Accuracy = 0.85938\n",
      "Iter 87040, Minibatch Loss= 4006.840820, Training Accuracy = 0.90625\n",
      "Iter 88320, Minibatch Loss= 5743.616211, Training Accuracy = 0.81250\n",
      "Iter 89600, Minibatch Loss= 3953.104736, Training Accuracy = 0.84375\n",
      "Iter 90880, Minibatch Loss= 5754.935547, Training Accuracy = 0.84375\n",
      "Iter 92160, Minibatch Loss= 2013.808716, Training Accuracy = 0.90625\n",
      "Iter 93440, Minibatch Loss= 5145.489258, Training Accuracy = 0.87500\n",
      "Iter 94720, Minibatch Loss= 8137.624023, Training Accuracy = 0.81250\n",
      "Iter 96000, Minibatch Loss= 3857.168213, Training Accuracy = 0.85938\n",
      "Iter 97280, Minibatch Loss= 2842.351074, Training Accuracy = 0.85938\n",
      "Iter 98560, Minibatch Loss= 3137.117432, Training Accuracy = 0.89062\n",
      "Iter 99840, Minibatch Loss= 2746.144043, Training Accuracy = 0.87500\n",
      "Iter 101120, Minibatch Loss= 2338.516846, Training Accuracy = 0.87500\n",
      "Iter 102400, Minibatch Loss= 4368.240723, Training Accuracy = 0.84375\n",
      "Iter 103680, Minibatch Loss= 1744.264526, Training Accuracy = 0.95312\n",
      "Iter 104960, Minibatch Loss= 5230.206055, Training Accuracy = 0.85938\n",
      "Iter 106240, Minibatch Loss= 2367.956787, Training Accuracy = 0.87500\n",
      "Iter 107520, Minibatch Loss= 6238.413086, Training Accuracy = 0.85938\n",
      "Iter 108800, Minibatch Loss= 7370.374023, Training Accuracy = 0.82812\n",
      "Iter 110080, Minibatch Loss= 1131.321533, Training Accuracy = 0.95312\n",
      "Iter 111360, Minibatch Loss= 3153.966064, Training Accuracy = 0.89062\n",
      "Iter 112640, Minibatch Loss= 2704.248291, Training Accuracy = 0.92188\n",
      "Iter 113920, Minibatch Loss= 1076.612793, Training Accuracy = 0.93750\n",
      "Iter 115200, Minibatch Loss= 4209.054688, Training Accuracy = 0.87500\n",
      "Iter 116480, Minibatch Loss= 4189.564941, Training Accuracy = 0.93750\n",
      "Iter 117760, Minibatch Loss= 2182.191650, Training Accuracy = 0.87500\n",
      "Iter 119040, Minibatch Loss= 2254.135254, Training Accuracy = 0.85938\n",
      "Iter 120320, Minibatch Loss= 3872.075928, Training Accuracy = 0.93750\n",
      "Iter 121600, Minibatch Loss= 1325.112793, Training Accuracy = 0.95312\n",
      "Iter 122880, Minibatch Loss= 2396.313965, Training Accuracy = 0.92188\n",
      "Iter 124160, Minibatch Loss= 2152.725098, Training Accuracy = 0.92188\n",
      "Iter 125440, Minibatch Loss= 2355.312500, Training Accuracy = 0.87500\n",
      "Iter 126720, Minibatch Loss= 1288.990356, Training Accuracy = 0.92188\n",
      "Iter 128000, Minibatch Loss= 3393.817139, Training Accuracy = 0.87500\n",
      "Iter 129280, Minibatch Loss= 2652.130859, Training Accuracy = 0.92188\n",
      "Iter 130560, Minibatch Loss= 1704.853027, Training Accuracy = 0.90625\n",
      "Iter 131840, Minibatch Loss= 1118.268311, Training Accuracy = 0.92188\n",
      "Iter 133120, Minibatch Loss= 1930.154663, Training Accuracy = 0.89062\n",
      "Iter 134400, Minibatch Loss= 917.003235, Training Accuracy = 0.95312\n",
      "Iter 135680, Minibatch Loss= 1552.344482, Training Accuracy = 0.93750\n",
      "Iter 136960, Minibatch Loss= 884.228943, Training Accuracy = 0.95312\n",
      "Iter 138240, Minibatch Loss= 2135.264160, Training Accuracy = 0.87500\n",
      "Iter 139520, Minibatch Loss= 2533.142334, Training Accuracy = 0.89062\n",
      "Iter 140800, Minibatch Loss= 1681.450073, Training Accuracy = 0.89062\n",
      "Iter 142080, Minibatch Loss= 1610.089844, Training Accuracy = 0.90625\n",
      "Iter 143360, Minibatch Loss= 1213.544556, Training Accuracy = 0.92188\n",
      "Iter 144640, Minibatch Loss= 722.211914, Training Accuracy = 0.93750\n",
      "Iter 145920, Minibatch Loss= 2204.216309, Training Accuracy = 0.92188\n",
      "Iter 147200, Minibatch Loss= 2664.203125, Training Accuracy = 0.92188\n",
      "Iter 148480, Minibatch Loss= 1031.143311, Training Accuracy = 0.92188\n",
      "Iter 149760, Minibatch Loss= 2750.401855, Training Accuracy = 0.89062\n",
      "Iter 151040, Minibatch Loss= 5768.374023, Training Accuracy = 0.85938\n"
     ]
    },
    {
     "name": "stdout",
     "output_type": "stream",
     "text": [
      "Iter 152320, Minibatch Loss= 2900.989258, Training Accuracy = 0.90625\n",
      "Iter 153600, Minibatch Loss= 697.589478, Training Accuracy = 0.95312\n",
      "Iter 154880, Minibatch Loss= 1731.381592, Training Accuracy = 0.90625\n",
      "Iter 156160, Minibatch Loss= 1935.010498, Training Accuracy = 0.93750\n",
      "Iter 157440, Minibatch Loss= 1429.371582, Training Accuracy = 0.89062\n",
      "Iter 158720, Minibatch Loss= 2645.312744, Training Accuracy = 0.93750\n",
      "Iter 160000, Minibatch Loss= 451.187500, Training Accuracy = 0.98438\n",
      "Iter 161280, Minibatch Loss= 998.995422, Training Accuracy = 0.90625\n",
      "Iter 162560, Minibatch Loss= 1619.091675, Training Accuracy = 0.93750\n",
      "Iter 163840, Minibatch Loss= 4407.250977, Training Accuracy = 0.82812\n",
      "Iter 165120, Minibatch Loss= 1847.185059, Training Accuracy = 0.90625\n",
      "Iter 166400, Minibatch Loss= 1667.731812, Training Accuracy = 0.90625\n",
      "Iter 167680, Minibatch Loss= 912.019897, Training Accuracy = 0.95312\n",
      "Iter 168960, Minibatch Loss= 1447.053223, Training Accuracy = 0.93750\n",
      "Iter 170240, Minibatch Loss= 1474.289795, Training Accuracy = 0.90625\n",
      "Iter 171520, Minibatch Loss= 2125.963379, Training Accuracy = 0.92188\n",
      "Iter 172800, Minibatch Loss= 587.874268, Training Accuracy = 0.95312\n",
      "Iter 174080, Minibatch Loss= 1961.369629, Training Accuracy = 0.95312\n",
      "Iter 175360, Minibatch Loss= 1138.575562, Training Accuracy = 0.93750\n",
      "Iter 176640, Minibatch Loss= 972.176880, Training Accuracy = 0.92188\n",
      "Iter 177920, Minibatch Loss= 358.133972, Training Accuracy = 0.93750\n",
      "Iter 179200, Minibatch Loss= 1312.544922, Training Accuracy = 0.92188\n",
      "Iter 180480, Minibatch Loss= 1797.617676, Training Accuracy = 0.92188\n",
      "Iter 181760, Minibatch Loss= 539.723633, Training Accuracy = 0.96875\n",
      "Iter 183040, Minibatch Loss= 2780.036133, Training Accuracy = 0.90625\n",
      "Iter 184320, Minibatch Loss= 475.887756, Training Accuracy = 0.96875\n",
      "Iter 185600, Minibatch Loss= 1543.148926, Training Accuracy = 0.87500\n",
      "Iter 186880, Minibatch Loss= 1391.418213, Training Accuracy = 0.92188\n",
      "Iter 188160, Minibatch Loss= 3186.093750, Training Accuracy = 0.89062\n",
      "Iter 189440, Minibatch Loss= 2821.433350, Training Accuracy = 0.85938\n",
      "Iter 190720, Minibatch Loss= 1732.147217, Training Accuracy = 0.90625\n",
      "Iter 192000, Minibatch Loss= 1152.497437, Training Accuracy = 0.95312\n",
      "Iter 193280, Minibatch Loss= 2603.449707, Training Accuracy = 0.90625\n",
      "Iter 194560, Minibatch Loss= 2147.898926, Training Accuracy = 0.90625\n",
      "Iter 195840, Minibatch Loss= 912.857788, Training Accuracy = 0.92188\n",
      "Iter 197120, Minibatch Loss= 1089.018433, Training Accuracy = 0.93750\n",
      "Iter 198400, Minibatch Loss= 2077.329834, Training Accuracy = 0.90625\n",
      "Iter 199680, Minibatch Loss= 1477.501343, Training Accuracy = 0.93750\n",
      "Optimization Finished!\n",
      "('Testing Accuracy:', 0.95703125)\n"
     ]
    }
   ],
   "source": [
    "with tf.Session() as sess:\n",
    "    sess.run(init)\n",
    "    step = 1\n",
    "    # Keep training until reach max iterations\n",
    "    while step * batch_size < training_iters:\n",
    "        batch_xs, batch_ys = mnist.train.next_batch(batch_size)\n",
    "        # 获取批数据\n",
    "        sess.run(optimizer, feed_dict={x: batch_xs, y: batch_ys, keep_prob: dropout})\n",
    "        if step % display_step == 0:\n",
    "            # 计算精度\n",
    "            acc = sess.run(accuracy, feed_dict={x: batch_xs, y: batch_ys, keep_prob: 1.})\n",
    "            # 计算损失值\n",
    "            loss = sess.run(cost, feed_dict={x: batch_xs, y: batch_ys, keep_prob: 1.})\n",
    "            print (\"Iter \" + str(step*batch_size) + \", Minibatch Loss= \" + \"{:.6f}\".format(loss) + \", Training Accuracy = \" + \"{:.5f}\".format(acc))\n",
    "        step += 1\n",
    "        \n",
    "    save_path = saver.save(sess,\"./Test_MNIST_AlexNet.ckpt\")\n",
    "    print(\"save model:{0} Finished\".format(save_path))\n",
    "    print (\"Optimization Finished!\")\n",
    "    # 计算测试精度\n",
    "    print (\"Testing Accuracy:\", sess.run(accuracy, feed_dict={x: mnist.test.images[:256], y: mnist.test.labels[:256], keep_prob: 1.}))"
   ]
  },
  {
   "cell_type": "code",
   "execution_count": 3,
   "metadata": {},
   "outputs": [
    {
     "data": {
      "text/plain": [
       "'3.4.0'"
      ]
     },
     "execution_count": 3,
     "metadata": {},
     "output_type": "execute_result"
    }
   ],
   "source": [
    "cv2.__version__"
   ]
  },
  {
   "cell_type": "code",
   "execution_count": null,
   "metadata": {},
   "outputs": [],
   "source": []
  }
 ],
 "metadata": {
  "kernelspec": {
   "display_name": "Python 2",
   "language": "python",
   "name": "python2"
  },
  "language_info": {
   "codemirror_mode": {
    "name": "ipython",
    "version": 2
   },
   "file_extension": ".py",
   "mimetype": "text/x-python",
   "name": "python",
   "nbconvert_exporter": "python",
   "pygments_lexer": "ipython2",
   "version": "2.7.14"
  }
 },
 "nbformat": 4,
 "nbformat_minor": 2
}
