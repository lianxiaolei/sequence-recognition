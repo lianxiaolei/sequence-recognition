{
 "cells": [
  {
   "cell_type": "code",
   "execution_count": 1,
   "metadata": {},
   "outputs": [
    {
     "name": "stderr",
     "output_type": "stream",
     "text": [
      "C:\\ProgramData\\Anaconda3\\lib\\site-packages\\h5py\\__init__.py:36: FutureWarning: Conversion of the second argument of issubdtype from `float` to `np.floating` is deprecated. In future, it will be treated as `np.float64 == np.dtype(float).type`.\n",
      "  from ._conv import register_converters as _register_converters\n"
     ]
    }
   ],
   "source": [
    "import tensorflow as tf\n",
    "from lxml import etree\n",
    "import os\n",
    "import cv2\n",
    "from PIL import Image\n",
    "import numpy as np\n",
    "import skimage\n",
    "import random"
   ]
  },
  {
   "cell_type": "markdown",
   "metadata": {},
   "source": [
    "## Writing"
   ]
  },
  {
   "cell_type": "code",
   "execution_count": 261,
   "metadata": {},
   "outputs": [],
   "source": [
    "# characters = '0123456789+-*/=()'\n",
    "characters = '0123456789'\n",
    "width, height, n_len, n_class = 400, 40, 10, len(characters) + 1\n",
    "\n",
    "\n",
    "def generate():\n",
    "    ds = '0123456789'\n",
    "    ts = ['{}{}{}{}{}', '({}{}{}){}{}', '{}{}({}{}{})']\n",
    "    os = '+-*/'\n",
    "    # os = ['+', '-', 'times', 'div']\n",
    "    cs = [random.choice(ds) if x % 2 == 0 else random.choice(os) for x in range(5)]\n",
    "    return random.choice(ts).format(*cs)\n",
    "\n",
    "\n",
    "def get_img_by_char(char, base_path=r'F:\\number_ok1'):\n",
    "    \"\"\"\n",
    "    get a img by giving char\n",
    "    :param char:\n",
    "    :param base_path:\n",
    "    :return:\n",
    "    \"\"\"\n",
    "    opdict = {'+': 10, '-': 11, '*': 12, '/': 13, '=': 14, '(': 15, ')': 16}\n",
    "    if char in opdict.keys():\n",
    "        char = opdict[char]\n",
    "    path = os.path.join(base_path, str(char))\n",
    "    files = os.listdir(path)\n",
    "\n",
    "    rdm = random.randint(0, len(files) - 1)\n",
    "\n",
    "    if rdm >= len(files):\n",
    "        print(path, len(files), rdm)\n",
    "\n",
    "    file = files[rdm]\n",
    "    path = os.path.join(path, file)\n",
    "    return cv2.imread(path, cv2.IMREAD_GRAYSCALE)\n",
    "\n",
    "\n",
    "def get_sequence_img(chars):\n",
    "    \"\"\"\n",
    "\n",
    "    :param chars:\n",
    "    :return:\n",
    "    \"\"\"\n",
    "    x = get_img_by_char(chars[0])\n",
    "    for i in range(1, len(chars)):\n",
    "        x = np.hstack([x, get_img_by_char(chars[i])])\n",
    "    x = cv2.resize(x, (width, height))\n",
    "#     x = skimage.util.random_noise(x, mode='gaussian', clip=True)\n",
    "    return x"
   ]
  },
  {
   "cell_type": "code",
   "execution_count": 262,
   "metadata": {},
   "outputs": [],
   "source": [
    "def gen():\n",
    "    \"\"\"\n",
    "\n",
    "    :return:\n",
    "    \"\"\"\n",
    "    random_str = ''.join([random.choice(characters) for j in range(n_len)])\n",
    "    #             random_str = '60/3=20'\n",
    "    img = np.array(get_sequence_img(random_str))\n",
    "    img = img.astype(np.uint8)\n",
    "    return img, [characters.find(x) for x in random_str]"
   ]
  },
  {
   "cell_type": "code",
   "execution_count": 263,
   "metadata": {},
   "outputs": [],
   "source": [
    "def _bytes_feature(value):\n",
    "    img_bytes = value.tostring()\n",
    "    return tf.train.Feature(bytes_list=tf.train.BytesList(value=[img_bytes]))\n",
    "\n",
    "\n",
    "def _float32_feature(value):\n",
    "    return tf.train.Feature(float32_list=tf.train.FloatList(value=[value]))\n",
    "\n",
    "\n",
    "def _bytes_feature_with_list(value):\n",
    "    value = [str(v) for v in value]\n",
    "    return tf.train.Feature(bytes_list=tf.train.BytesList(value=[bytes(' '.join(value), encoding='utf8')]))\n",
    "\n",
    "\n",
    "def _write_features(features, tf_writer):\n",
    "    tf_features = tf.train.Features(feature=features)\n",
    "    tf_example = tf.train.Example(features=tf_features)\n",
    "    tf_serialized = tf_example.SerializeToString()\n",
    "\n",
    "    tf_writer.write(tf_serialized)"
   ]
  },
  {
   "cell_type": "code",
   "execution_count": 264,
   "metadata": {},
   "outputs": [],
   "source": [
    "def tfrecord(path, batch_size=128):\n",
    "    \"\"\"\n",
    "\n",
    "    :param batch_size:\n",
    "    :return:\n",
    "    \"\"\"\n",
    "    with tf.python_io.TFRecordWriter(path=path) as tf_writer:\n",
    "        for i in range(batch_size):\n",
    "            features = {}\n",
    "            img, y = gen()\n",
    "\n",
    "            features['image'] = _bytes_feature(img)\n",
    "            features['label'] = _bytes_feature_with_list(y)\n",
    "\n",
    "            _write_features(features, tf_writer)"
   ]
  },
  {
   "cell_type": "code",
   "execution_count": 265,
   "metadata": {},
   "outputs": [],
   "source": [
    "tfrecord('./tfrc.tfrecord', batch_size=1024)"
   ]
  },
  {
   "cell_type": "markdown",
   "metadata": {},
   "source": [
    "## Reading"
   ]
  },
  {
   "cell_type": "code",
   "execution_count": 245,
   "metadata": {},
   "outputs": [],
   "source": [
    "%matplotlib inline\n",
    "import matplotlib.pyplot as plt"
   ]
  },
  {
   "cell_type": "code",
   "execution_count": 246,
   "metadata": {},
   "outputs": [],
   "source": [
    "def _read_features(example_proto):\n",
    "    \"\"\"\n",
    "\n",
    "    :param example_proto:\n",
    "    :return:\n",
    "    \"\"\"\n",
    "    dic = dict()\n",
    "    dic['image'] = tf.FixedLenFeature(shape=[], dtype=tf.string)\n",
    "    dic['label'] = tf.FixedLenFeature(shape=[], dtype=tf.string)\n",
    "\n",
    "    parse_example = tf.parse_single_example(\n",
    "        serialized=example_proto, features=dic)\n",
    "    \n",
    "    img = parse_example['image']\n",
    "    y = parse_example['label']\n",
    "\n",
    "    img = tf.decode_raw(parse_example['image'], out_type=tf.uint8)\n",
    "\n",
    "    return img, y\n",
    "#     return img"
   ]
  },
  {
   "cell_type": "code",
   "execution_count": 247,
   "metadata": {},
   "outputs": [],
   "source": [
    "def tfrecord2img(path, epoch_batch_size=1):\n",
    "    \"\"\"\n",
    "\n",
    "    :param example_proto:\n",
    "    :return:\n",
    "    \"\"\"\n",
    "    data = tf.data.TFRecordDataset(path)\n",
    "    data = data.map(_read_features).batch(epoch_batch_size)\n",
    "\n",
    "    iterator = data.make_one_shot_iterator()\n",
    "    next_element = iterator.get_next()\n",
    "\n",
    "    with tf.Session() as sess:\n",
    "        img, y = sess.run(fetches=next_element)\n",
    "#         img = sess.run(fetches=next_element)\n",
    "        print(img)\n",
    "        img = img.reshape(height, width)\n",
    "        print(img.shape)\n",
    "        plt.imshow(img)\n",
    "        plt.show()\n",
    "        \n",
    "        y = list(map(lambda x: int(x), y[0].decode('utf8').split()))\n",
    "        print('label', y)"
   ]
  },
  {
   "cell_type": "code",
   "execution_count": 248,
   "metadata": {},
   "outputs": [
    {
     "name": "stdout",
     "output_type": "stream",
     "text": [
      "[[0 0 0 ... 0 0 0]]\n",
      "(40, 400)\n"
     ]
    },
    {
     "data": {
      "image/png": "[encoded data removed]",
      "text/plain": [
       "<matplotlib.figure.Figure at 0x2ab677cd198>"
      ]
     },
     "metadata": {},
     "output_type": "display_data"
    },
    {
     "name": "stdout",
     "output_type": "stream",
     "text": [
      "label [9, 8, 9, 5, 6, 6, 8, 5, 0, 0]\n"
     ]
    }
   ],
   "source": [
    "tfrecord2img('./tfrc.tfrecord', epoch_batch_size=1)"
   ]
  },
  {
   "cell_type": "code",
   "execution_count": 249,
   "metadata": {},
   "outputs": [
    {
     "name": "stdout",
     "output_type": "stream",
     "text": [
      "(40, 400)\n"
     ]
    }
   ],
   "source": [
    "img, y = gen()\n",
    "img = img.astype(np.uint8)"
   ]
  },
  {
   "cell_type": "code",
   "execution_count": 252,
   "metadata": {},
   "outputs": [
    {
     "data": {
      "text/plain": [
       "b'\\x01\\x03\\x02\\x04\\x02\\x01\\x02\\x02\\x02\\x02'"
      ]
     },
     "execution_count": 252,
     "metadata": {},
     "output_type": "execute_result"
    }
   ],
   "source": [
    "bt = img.tobytes()\n",
    "bt[:10]"
   ]
  },
  {
   "cell_type": "code",
   "execution_count": 268,
   "metadata": {},
   "outputs": [],
   "source": [
    "with tf.Session() as sess:\n",
    "    xx = 2222"
   ]
  },
  {
   "cell_type": "code",
   "execution_count": 269,
   "metadata": {},
   "outputs": [
    {
     "data": {
      "text/plain": [
       "2222"
      ]
     },
     "execution_count": 269,
     "metadata": {},
     "output_type": "execute_result"
    }
   ],
   "source": [
    "xx"
   ]
  },
  {
   "cell_type": "code",
   "execution_count": null,
   "metadata": {},
   "outputs": [],
   "source": []
  }
 ],
 "metadata": {
  "kernelspec": {
   "display_name": "Python 3",
   "language": "python",
   "name": "python3"
  },
  "language_info": {
   "codemirror_mode": {
    "name": "ipython",
    "version": 3
   },
   "file_extension": ".py",
   "mimetype": "text/x-python",
   "name": "python",
   "nbconvert_exporter": "python",
   "pygments_lexer": "ipython3",
   "version": "3.6.4"
  }
 },
 "nbformat": 4,
 "nbformat_minor": 2
}
